{
  "cells": [
    {
      "cell_type": "markdown",
      "metadata": {
        "id": "view-in-github",
        "colab_type": "text"
      },
      "source": [
        "<a href=\"https://colab.research.google.com/github/MariaRitaRR/M06_calculo-numerico-e-estatistica/blob/main/ATV_2.ipynb\" target=\"_parent\"><img src=\"https://colab.research.google.com/assets/colab-badge.svg\" alt=\"Open In Colab\"/></a>"
      ]
    },
    {
      "cell_type": "markdown",
      "id": "b16fb5f3",
      "metadata": {
        "id": "b16fb5f3"
      },
      "source": [
        "## Nome:\n",
        "## Matricula:"
      ]
    },
    {
      "cell_type": "markdown",
      "id": "49f05b5a",
      "metadata": {
        "id": "49f05b5a"
      },
      "source": [
        "---"
      ]
    },
    {
      "cell_type": "markdown",
      "id": "53b490c0",
      "metadata": {
        "id": "53b490c0"
      },
      "source": [
        "## Atividade 1 – Análise do Tempo de Permanência nos Espaços Técnicos do Hacktown"
      ]
    },
    {
      "cell_type": "markdown",
      "id": "2d78816a",
      "metadata": {
        "id": "2d78816a"
      },
      "source": [
        "Durante o Hacktown, evento que mistura inovação, tecnologia e criatividade em Santa Rita do Sapucaí, foi realizada uma pesquisa entre os visitantes que passaram pelos espaços técnicos da feira (como painéis de tecnologia, oficinas de IA, estandes de protótipos, etc.).\n",
        "\n",
        "A equipe do evento mediu o tempo médio de permanência (em minutos) dos participantes em 20 estandes diferentes. Esses dados serão utilizados para repensar o design de rotas e experiências nas próximas edições.\n",
        "\n",
        "Você recebeu os dados do tempo de permanência dos visitantes (em minutos) em diferentes locais:\n",
        "\n",
        "| Local de Permanência                        | Tempo de Permanência |\n",
        "|--------------------------------------------|----------------------|\n",
        "| Teatro Inatel                              | 55                   |\n",
        "| Braseiro Restaurante                       | 32                   |\n",
        "| ETE - Sala 82                              | 42                   |\n",
        "| Real Palace                                | 36                   |\n",
        "| Be Bold                                    | 35                   |\n",
        "| Inatel - Sala de Física                    | 14                   |\n",
        "| ETE - Auditório Sinhá Moreira              | 52                   |\n",
        "| Inatel - CDGHub                            | 23                   |\n",
        "| Casa Dinamarca                             | 37                   |\n",
        "| ETE - Sala 64                              | 43                   |\n",
        "| Associação José do Patrocínio              | 15                   |\n",
        "| Inatel - Auditório Aureliano Chaves        | 57                   |\n",
        "| Escola Sânico Teles - Ginásio              | 34                   |\n",
        "| Inatel - Laboratório de Ideação            | 22                   |\n",
        "| Inatel - Sala 03                           | 36                   |\n",
        "| Bar e Restaurante do Dimas                 | 31                   |\n",
        "| Loja Maçônica                              | 18                   |\n",
        "| Boteco do Tio João                         | 34                   |\n",
        "| Inatel - Sala 25                           | 40                   |\n",
        "| ETE - Sala 82                              | 41                   |\n",
        "\n"
      ]
    },
    {
      "cell_type": "code",
      "execution_count": 16,
      "id": "14c6a5ac",
      "metadata": {
        "id": "14c6a5ac"
      },
      "outputs": [],
      "source": [
        "# Plotar gráficos\n",
        "import seaborn as sns\n",
        "import matplotlib.pyplot as plt\n",
        "\n",
        "# Analise de dados\n",
        "import numpy as np\n",
        "import pandas as pd"
      ]
    },
    {
      "cell_type": "code",
      "execution_count": 18,
      "id": "fca47a69",
      "metadata": {
        "colab": {
          "base_uri": "https://localhost:8080/",
          "height": 676
        },
        "id": "fca47a69",
        "outputId": "2bbd3c8b-3146-4b97-83ff-4a17050e09e4"
      },
      "outputs": [
        {
          "output_type": "display_data",
          "data": {
            "text/plain": [
              "                   Local de Permanência  Tempo de Permanência\n",
              "0                         Teatro Inatel                    55\n",
              "1                  Braseiro Restaurante                    32\n",
              "2                         ETE - Sala 82                    42\n",
              "3                           Real Palace                    36\n",
              "4                               Be Bold                    35\n",
              "5               Inatel - Sala de Física                    14\n",
              "6         ETE - Auditório Sinhá Moreira                    52\n",
              "7                       Inatel - CDGHub                    23\n",
              "8                        Casa Dinamarca                    37\n",
              "9                         ETE - Sala 64                    43\n",
              "10        Associação José do Patrocínio                    15\n",
              "11  Inatel - Auditório Aureliano Chaves                    57\n",
              "12        Escola Sânico Teles - Ginásio                    34\n",
              "13      Inatel - Laboratório de Ideação                    22\n",
              "14                     Inatel - Sala 03                    36\n",
              "15           Bar e Restaurante do Dimas                    31\n",
              "16                        Loja Maçônica                    18\n",
              "17                   Boteco do Tio João                    34\n",
              "18                     Inatel - Sala 25                    40\n",
              "19                        ETE - Sala 82                    41"
            ],
            "text/html": [
              "\n",
              "  <div id=\"df-61550158-2214-4d5d-8c75-84ff32f29f4a\" class=\"colab-df-container\">\n",
              "    <div>\n",
              "<style scoped>\n",
              "    .dataframe tbody tr th:only-of-type {\n",
              "        vertical-align: middle;\n",
              "    }\n",
              "\n",
              "    .dataframe tbody tr th {\n",
              "        vertical-align: top;\n",
              "    }\n",
              "\n",
              "    .dataframe thead th {\n",
              "        text-align: right;\n",
              "    }\n",
              "</style>\n",
              "<table border=\"1\" class=\"dataframe\">\n",
              "  <thead>\n",
              "    <tr style=\"text-align: right;\">\n",
              "      <th></th>\n",
              "      <th>Local de Permanência</th>\n",
              "      <th>Tempo de Permanência</th>\n",
              "    </tr>\n",
              "  </thead>\n",
              "  <tbody>\n",
              "    <tr>\n",
              "      <th>0</th>\n",
              "      <td>Teatro Inatel</td>\n",
              "      <td>55</td>\n",
              "    </tr>\n",
              "    <tr>\n",
              "      <th>1</th>\n",
              "      <td>Braseiro Restaurante</td>\n",
              "      <td>32</td>\n",
              "    </tr>\n",
              "    <tr>\n",
              "      <th>2</th>\n",
              "      <td>ETE - Sala 82</td>\n",
              "      <td>42</td>\n",
              "    </tr>\n",
              "    <tr>\n",
              "      <th>3</th>\n",
              "      <td>Real Palace</td>\n",
              "      <td>36</td>\n",
              "    </tr>\n",
              "    <tr>\n",
              "      <th>4</th>\n",
              "      <td>Be Bold</td>\n",
              "      <td>35</td>\n",
              "    </tr>\n",
              "    <tr>\n",
              "      <th>5</th>\n",
              "      <td>Inatel - Sala de Física</td>\n",
              "      <td>14</td>\n",
              "    </tr>\n",
              "    <tr>\n",
              "      <th>6</th>\n",
              "      <td>ETE - Auditório Sinhá Moreira</td>\n",
              "      <td>52</td>\n",
              "    </tr>\n",
              "    <tr>\n",
              "      <th>7</th>\n",
              "      <td>Inatel - CDGHub</td>\n",
              "      <td>23</td>\n",
              "    </tr>\n",
              "    <tr>\n",
              "      <th>8</th>\n",
              "      <td>Casa Dinamarca</td>\n",
              "      <td>37</td>\n",
              "    </tr>\n",
              "    <tr>\n",
              "      <th>9</th>\n",
              "      <td>ETE - Sala 64</td>\n",
              "      <td>43</td>\n",
              "    </tr>\n",
              "    <tr>\n",
              "      <th>10</th>\n",
              "      <td>Associação José do Patrocínio</td>\n",
              "      <td>15</td>\n",
              "    </tr>\n",
              "    <tr>\n",
              "      <th>11</th>\n",
              "      <td>Inatel - Auditório Aureliano Chaves</td>\n",
              "      <td>57</td>\n",
              "    </tr>\n",
              "    <tr>\n",
              "      <th>12</th>\n",
              "      <td>Escola Sânico Teles - Ginásio</td>\n",
              "      <td>34</td>\n",
              "    </tr>\n",
              "    <tr>\n",
              "      <th>13</th>\n",
              "      <td>Inatel - Laboratório de Ideação</td>\n",
              "      <td>22</td>\n",
              "    </tr>\n",
              "    <tr>\n",
              "      <th>14</th>\n",
              "      <td>Inatel - Sala 03</td>\n",
              "      <td>36</td>\n",
              "    </tr>\n",
              "    <tr>\n",
              "      <th>15</th>\n",
              "      <td>Bar e Restaurante do Dimas</td>\n",
              "      <td>31</td>\n",
              "    </tr>\n",
              "    <tr>\n",
              "      <th>16</th>\n",
              "      <td>Loja Maçônica</td>\n",
              "      <td>18</td>\n",
              "    </tr>\n",
              "    <tr>\n",
              "      <th>17</th>\n",
              "      <td>Boteco do Tio João</td>\n",
              "      <td>34</td>\n",
              "    </tr>\n",
              "    <tr>\n",
              "      <th>18</th>\n",
              "      <td>Inatel - Sala 25</td>\n",
              "      <td>40</td>\n",
              "    </tr>\n",
              "    <tr>\n",
              "      <th>19</th>\n",
              "      <td>ETE - Sala 82</td>\n",
              "      <td>41</td>\n",
              "    </tr>\n",
              "  </tbody>\n",
              "</table>\n",
              "</div>\n",
              "    <div class=\"colab-df-buttons\">\n",
              "\n",
              "  <div class=\"colab-df-container\">\n",
              "    <button class=\"colab-df-convert\" onclick=\"convertToInteractive('df-61550158-2214-4d5d-8c75-84ff32f29f4a')\"\n",
              "            title=\"Convert this dataframe to an interactive table.\"\n",
              "            style=\"display:none;\">\n",
              "\n",
              "  <svg xmlns=\"http://www.w3.org/2000/svg\" height=\"24px\" viewBox=\"0 -960 960 960\">\n",
              "    <path d=\"M120-120v-720h720v720H120Zm60-500h600v-160H180v160Zm220 220h160v-160H400v160Zm0 220h160v-160H400v160ZM180-400h160v-160H180v160Zm440 0h160v-160H620v160ZM180-180h160v-160H180v160Zm440 0h160v-160H620v160Z\"/>\n",
              "  </svg>\n",
              "    </button>\n",
              "\n",
              "  <style>\n",
              "    .colab-df-container {\n",
              "      display:flex;\n",
              "      gap: 12px;\n",
              "    }\n",
              "\n",
              "    .colab-df-convert {\n",
              "      background-color: #E8F0FE;\n",
              "      border: none;\n",
              "      border-radius: 50%;\n",
              "      cursor: pointer;\n",
              "      display: none;\n",
              "      fill: #1967D2;\n",
              "      height: 32px;\n",
              "      padding: 0 0 0 0;\n",
              "      width: 32px;\n",
              "    }\n",
              "\n",
              "    .colab-df-convert:hover {\n",
              "      background-color: #E2EBFA;\n",
              "      box-shadow: 0px 1px 2px rgba(60, 64, 67, 0.3), 0px 1px 3px 1px rgba(60, 64, 67, 0.15);\n",
              "      fill: #174EA6;\n",
              "    }\n",
              "\n",
              "    .colab-df-buttons div {\n",
              "      margin-bottom: 4px;\n",
              "    }\n",
              "\n",
              "    [theme=dark] .colab-df-convert {\n",
              "      background-color: #3B4455;\n",
              "      fill: #D2E3FC;\n",
              "    }\n",
              "\n",
              "    [theme=dark] .colab-df-convert:hover {\n",
              "      background-color: #434B5C;\n",
              "      box-shadow: 0px 1px 3px 1px rgba(0, 0, 0, 0.15);\n",
              "      filter: drop-shadow(0px 1px 2px rgba(0, 0, 0, 0.3));\n",
              "      fill: #FFFFFF;\n",
              "    }\n",
              "  </style>\n",
              "\n",
              "    <script>\n",
              "      const buttonEl =\n",
              "        document.querySelector('#df-61550158-2214-4d5d-8c75-84ff32f29f4a button.colab-df-convert');\n",
              "      buttonEl.style.display =\n",
              "        google.colab.kernel.accessAllowed ? 'block' : 'none';\n",
              "\n",
              "      async function convertToInteractive(key) {\n",
              "        const element = document.querySelector('#df-61550158-2214-4d5d-8c75-84ff32f29f4a');\n",
              "        const dataTable =\n",
              "          await google.colab.kernel.invokeFunction('convertToInteractive',\n",
              "                                                    [key], {});\n",
              "        if (!dataTable) return;\n",
              "\n",
              "        const docLinkHtml = 'Like what you see? Visit the ' +\n",
              "          '<a target=\"_blank\" href=https://colab.research.google.com/notebooks/data_table.ipynb>data table notebook</a>'\n",
              "          + ' to learn more about interactive tables.';\n",
              "        element.innerHTML = '';\n",
              "        dataTable['output_type'] = 'display_data';\n",
              "        await google.colab.output.renderOutput(dataTable, element);\n",
              "        const docLink = document.createElement('div');\n",
              "        docLink.innerHTML = docLinkHtml;\n",
              "        element.appendChild(docLink);\n",
              "      }\n",
              "    </script>\n",
              "  </div>\n",
              "\n",
              "\n",
              "    <div id=\"df-03cea17a-d90f-4d9e-82f9-dfef603a8cac\">\n",
              "      <button class=\"colab-df-quickchart\" onclick=\"quickchart('df-03cea17a-d90f-4d9e-82f9-dfef603a8cac')\"\n",
              "                title=\"Suggest charts\"\n",
              "                style=\"display:none;\">\n",
              "\n",
              "<svg xmlns=\"http://www.w3.org/2000/svg\" height=\"24px\"viewBox=\"0 0 24 24\"\n",
              "     width=\"24px\">\n",
              "    <g>\n",
              "        <path d=\"M19 3H5c-1.1 0-2 .9-2 2v14c0 1.1.9 2 2 2h14c1.1 0 2-.9 2-2V5c0-1.1-.9-2-2-2zM9 17H7v-7h2v7zm4 0h-2V7h2v10zm4 0h-2v-4h2v4z\"/>\n",
              "    </g>\n",
              "</svg>\n",
              "      </button>\n",
              "\n",
              "<style>\n",
              "  .colab-df-quickchart {\n",
              "      --bg-color: #E8F0FE;\n",
              "      --fill-color: #1967D2;\n",
              "      --hover-bg-color: #E2EBFA;\n",
              "      --hover-fill-color: #174EA6;\n",
              "      --disabled-fill-color: #AAA;\n",
              "      --disabled-bg-color: #DDD;\n",
              "  }\n",
              "\n",
              "  [theme=dark] .colab-df-quickchart {\n",
              "      --bg-color: #3B4455;\n",
              "      --fill-color: #D2E3FC;\n",
              "      --hover-bg-color: #434B5C;\n",
              "      --hover-fill-color: #FFFFFF;\n",
              "      --disabled-bg-color: #3B4455;\n",
              "      --disabled-fill-color: #666;\n",
              "  }\n",
              "\n",
              "  .colab-df-quickchart {\n",
              "    background-color: var(--bg-color);\n",
              "    border: none;\n",
              "    border-radius: 50%;\n",
              "    cursor: pointer;\n",
              "    display: none;\n",
              "    fill: var(--fill-color);\n",
              "    height: 32px;\n",
              "    padding: 0;\n",
              "    width: 32px;\n",
              "  }\n",
              "\n",
              "  .colab-df-quickchart:hover {\n",
              "    background-color: var(--hover-bg-color);\n",
              "    box-shadow: 0 1px 2px rgba(60, 64, 67, 0.3), 0 1px 3px 1px rgba(60, 64, 67, 0.15);\n",
              "    fill: var(--button-hover-fill-color);\n",
              "  }\n",
              "\n",
              "  .colab-df-quickchart-complete:disabled,\n",
              "  .colab-df-quickchart-complete:disabled:hover {\n",
              "    background-color: var(--disabled-bg-color);\n",
              "    fill: var(--disabled-fill-color);\n",
              "    box-shadow: none;\n",
              "  }\n",
              "\n",
              "  .colab-df-spinner {\n",
              "    border: 2px solid var(--fill-color);\n",
              "    border-color: transparent;\n",
              "    border-bottom-color: var(--fill-color);\n",
              "    animation:\n",
              "      spin 1s steps(1) infinite;\n",
              "  }\n",
              "\n",
              "  @keyframes spin {\n",
              "    0% {\n",
              "      border-color: transparent;\n",
              "      border-bottom-color: var(--fill-color);\n",
              "      border-left-color: var(--fill-color);\n",
              "    }\n",
              "    20% {\n",
              "      border-color: transparent;\n",
              "      border-left-color: var(--fill-color);\n",
              "      border-top-color: var(--fill-color);\n",
              "    }\n",
              "    30% {\n",
              "      border-color: transparent;\n",
              "      border-left-color: var(--fill-color);\n",
              "      border-top-color: var(--fill-color);\n",
              "      border-right-color: var(--fill-color);\n",
              "    }\n",
              "    40% {\n",
              "      border-color: transparent;\n",
              "      border-right-color: var(--fill-color);\n",
              "      border-top-color: var(--fill-color);\n",
              "    }\n",
              "    60% {\n",
              "      border-color: transparent;\n",
              "      border-right-color: var(--fill-color);\n",
              "    }\n",
              "    80% {\n",
              "      border-color: transparent;\n",
              "      border-right-color: var(--fill-color);\n",
              "      border-bottom-color: var(--fill-color);\n",
              "    }\n",
              "    90% {\n",
              "      border-color: transparent;\n",
              "      border-bottom-color: var(--fill-color);\n",
              "    }\n",
              "  }\n",
              "</style>\n",
              "\n",
              "      <script>\n",
              "        async function quickchart(key) {\n",
              "          const quickchartButtonEl =\n",
              "            document.querySelector('#' + key + ' button');\n",
              "          quickchartButtonEl.disabled = true;  // To prevent multiple clicks.\n",
              "          quickchartButtonEl.classList.add('colab-df-spinner');\n",
              "          try {\n",
              "            const charts = await google.colab.kernel.invokeFunction(\n",
              "                'suggestCharts', [key], {});\n",
              "          } catch (error) {\n",
              "            console.error('Error during call to suggestCharts:', error);\n",
              "          }\n",
              "          quickchartButtonEl.classList.remove('colab-df-spinner');\n",
              "          quickchartButtonEl.classList.add('colab-df-quickchart-complete');\n",
              "        }\n",
              "        (() => {\n",
              "          let quickchartButtonEl =\n",
              "            document.querySelector('#df-03cea17a-d90f-4d9e-82f9-dfef603a8cac button');\n",
              "          quickchartButtonEl.style.display =\n",
              "            google.colab.kernel.accessAllowed ? 'block' : 'none';\n",
              "        })();\n",
              "      </script>\n",
              "    </div>\n",
              "\n",
              "  <div id=\"id_d4ec5345-85f8-45e8-aa97-77d175b110dc\">\n",
              "    <style>\n",
              "      .colab-df-generate {\n",
              "        background-color: #E8F0FE;\n",
              "        border: none;\n",
              "        border-radius: 50%;\n",
              "        cursor: pointer;\n",
              "        display: none;\n",
              "        fill: #1967D2;\n",
              "        height: 32px;\n",
              "        padding: 0 0 0 0;\n",
              "        width: 32px;\n",
              "      }\n",
              "\n",
              "      .colab-df-generate:hover {\n",
              "        background-color: #E2EBFA;\n",
              "        box-shadow: 0px 1px 2px rgba(60, 64, 67, 0.3), 0px 1px 3px 1px rgba(60, 64, 67, 0.15);\n",
              "        fill: #174EA6;\n",
              "      }\n",
              "\n",
              "      [theme=dark] .colab-df-generate {\n",
              "        background-color: #3B4455;\n",
              "        fill: #D2E3FC;\n",
              "      }\n",
              "\n",
              "      [theme=dark] .colab-df-generate:hover {\n",
              "        background-color: #434B5C;\n",
              "        box-shadow: 0px 1px 3px 1px rgba(0, 0, 0, 0.15);\n",
              "        filter: drop-shadow(0px 1px 2px rgba(0, 0, 0, 0.3));\n",
              "        fill: #FFFFFF;\n",
              "      }\n",
              "    </style>\n",
              "    <button class=\"colab-df-generate\" onclick=\"generateWithVariable('dados')\"\n",
              "            title=\"Generate code using this dataframe.\"\n",
              "            style=\"display:none;\">\n",
              "\n",
              "  <svg xmlns=\"http://www.w3.org/2000/svg\" height=\"24px\"viewBox=\"0 0 24 24\"\n",
              "       width=\"24px\">\n",
              "    <path d=\"M7,19H8.4L18.45,9,17,7.55,7,17.6ZM5,21V16.75L18.45,3.32a2,2,0,0,1,2.83,0l1.4,1.43a1.91,1.91,0,0,1,.58,1.4,1.91,1.91,0,0,1-.58,1.4L9.25,21ZM18.45,9,17,7.55Zm-12,3A5.31,5.31,0,0,0,4.9,8.1,5.31,5.31,0,0,0,1,6.5,5.31,5.31,0,0,0,4.9,4.9,5.31,5.31,0,0,0,6.5,1,5.31,5.31,0,0,0,8.1,4.9,5.31,5.31,0,0,0,12,6.5,5.46,5.46,0,0,0,6.5,12Z\"/>\n",
              "  </svg>\n",
              "    </button>\n",
              "    <script>\n",
              "      (() => {\n",
              "      const buttonEl =\n",
              "        document.querySelector('#id_d4ec5345-85f8-45e8-aa97-77d175b110dc button.colab-df-generate');\n",
              "      buttonEl.style.display =\n",
              "        google.colab.kernel.accessAllowed ? 'block' : 'none';\n",
              "\n",
              "      buttonEl.onclick = () => {\n",
              "        google.colab.notebook.generateWithVariable('dados');\n",
              "      }\n",
              "      })();\n",
              "    </script>\n",
              "  </div>\n",
              "\n",
              "    </div>\n",
              "  </div>\n"
            ],
            "application/vnd.google.colaboratory.intrinsic+json": {
              "type": "dataframe",
              "variable_name": "dados",
              "summary": "{\n  \"name\": \"dados\",\n  \"rows\": 20,\n  \"fields\": [\n    {\n      \"column\": \"Local de Perman\\u00eancia\",\n      \"properties\": {\n        \"dtype\": \"string\",\n        \"num_unique_values\": 19,\n        \"samples\": [\n          \"Teatro Inatel\",\n          \"Inatel - Sala de F\\u00edsica\",\n          \"Inatel - Audit\\u00f3rio Aureliano Chaves\"\n        ],\n        \"semantic_type\": \"\",\n        \"description\": \"\"\n      }\n    },\n    {\n      \"column\": \"Tempo de Perman\\u00eancia\",\n      \"properties\": {\n        \"dtype\": \"number\",\n        \"std\": 12,\n        \"min\": 14,\n        \"max\": 57,\n        \"num_unique_values\": 18,\n        \"samples\": [\n          55,\n          32,\n          37\n        ],\n        \"semantic_type\": \"\",\n        \"description\": \"\"\n      }\n    }\n  ]\n}"
            }
          },
          "metadata": {}
        }
      ],
      "source": [
        "# Dicionário de dados\n",
        "tabela = {\n",
        "    \"Local de Permanência\": [\n",
        "        \"Teatro Inatel\", \"Braseiro Restaurante\", \"ETE - Sala 82\", \"Real Palace\",\n",
        "        \"Be Bold\", \"Inatel - Sala de Física\", \"ETE - Auditório Sinhá Moreira\",\n",
        "        \"Inatel - CDGHub\", \"Casa Dinamarca\", \"ETE - Sala 64\",\n",
        "        \"Associação José do Patrocínio\", \"Inatel - Auditório Aureliano Chaves\",\n",
        "        \"Escola Sânico Teles - Ginásio\", \"Inatel - Laboratório de Ideação\",\n",
        "        \"Inatel - Sala 03\", \"Bar e Restaurante do Dimas\", \"Loja Maçônica\",\n",
        "        \"Boteco do Tio João\", \"Inatel - Sala 25\", \"ETE - Sala 82\"\n",
        "    ],\n",
        "    \"Tempo de Permanência\": [\n",
        "        55, 32, 42, 36, 35, 14, 52, 23, 37, 43,\n",
        "        15, 57, 34, 22, 36, 31, 18, 34, 40, 41\n",
        "    ]\n",
        "}\n",
        "\n",
        "dados = pd.DataFrame(tabela)\n",
        "display(dados)"
      ]
    },
    {
      "cell_type": "markdown",
      "id": "e639448c",
      "metadata": {
        "id": "e639448c"
      },
      "source": [
        "---\n",
        "### Parte 1 - Tendência Central e Interpretação\n",
        "\n",
        "Obs: Se necessário for, reordene os dados em ordem crescente ou decrescente (rol)."
      ]
    },
    {
      "cell_type": "code",
      "execution_count": 19,
      "id": "1ru_6O-5ItyW",
      "metadata": {
        "id": "1ru_6O-5ItyW"
      },
      "outputs": [],
      "source": [
        "# Ordenar o DataFrame pelo tempo de permanência (crescente)\n",
        "df_ordenado = dados.sort_values(by='Tempo de Permanência', ascending=True).reset_index(drop=True)\n",
        "\n",
        "# Média do tempo de permanência\n",
        "media = dados['Tempo de Permanência'].mean()\n",
        "\n",
        "# Mediana do tempo de permanência\n",
        "mediana = df_ordenado['Tempo de Permanência'].median()\n",
        "\n",
        "# Moda do tempo de permanência\n",
        "moda = dados['Tempo de Permanência'].mode()   # retorna uma Series (pode haver mais de uma moda)\n"
      ]
    },
    {
      "cell_type": "markdown",
      "id": "2977bb75",
      "metadata": {
        "id": "2977bb75"
      },
      "source": [
        "1. Calcule a média, a mediana e a moda dos tempos de permanência.\n",
        "\n",
        "<img src=\"data:image/png;base64,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\"/>\n",
        "<img src=\"data:image/png;base64,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\"/>\n"
      ]
    },
    {
      "cell_type": "code",
      "execution_count": 20,
      "id": "4afad842",
      "metadata": {
        "id": "4afad842",
        "colab": {
          "base_uri": "https://localhost:8080/"
        },
        "outputId": "a35ac742-9d17-48b6-ed9d-965e5f9ca115"
      },
      "outputs": [
        {
          "output_type": "stream",
          "name": "stdout",
          "text": [
            "Média do tempo de permanência:  34.85\n",
            "Mediana do tempo de permanência:  35.5\n",
            "Moda do tempo de permanência: 34, 36\n"
          ]
        }
      ],
      "source": [
        "print(\"Média do tempo de permanência: \" ,media)\n",
        "print(\"Mediana do tempo de permanência: \", mediana)\n",
        "print(\"Moda do tempo de permanência:\", ', '.join(map(str, moda)))"
      ]
    },
    {
      "cell_type": "markdown",
      "id": "a3363007",
      "metadata": {
        "id": "a3363007"
      },
      "source": [
        "2. Esses valores são próximos? Em sua opinião, qual dessas medidas representa melhor o comportamento do público no Hacktown? Justifique."
      ]
    },
    {
      "cell_type": "markdown",
      "id": "8e152314",
      "metadata": {
        "id": "8e152314"
      },
      "source": [
        "*Resposta*: Sim, esses valores são proxímos, a mediana ela é menos influenciada por valores extremos (exeções), sendo ideal para representar o comportamento geral do público do Hacktown."
      ]
    },
    {
      "cell_type": "markdown",
      "id": "b7a7a448",
      "metadata": {
        "id": "b7a7a448"
      },
      "source": [
        "3. Identifique os locais com tempos de permanência muito acima ou abaixo da média. O que isso pode indicar sobre esses espaços?"
      ]
    },
    {
      "cell_type": "markdown",
      "id": "d0294442",
      "metadata": {
        "id": "d0294442"
      },
      "source": [
        "Resposta: Isso pode indicar a capacidade de pessoas que cabem nesses locais e os conteudos que foram abordados além do tempo de espera para entrar em cada um."
      ]
    },
    {
      "cell_type": "markdown",
      "id": "1a1f6852",
      "metadata": {
        "id": "1a1f6852"
      },
      "source": [
        "---\n",
        "### Parte 2 – Separatrizes (Quartis)"
      ]
    },
    {
      "cell_type": "code",
      "execution_count": 21,
      "id": "MxY_e39DNaa3",
      "metadata": {
        "id": "MxY_e39DNaa3"
      },
      "outputs": [],
      "source": [
        "# Função para calcular os quartis\n",
        "quartis = dados['Tempo de Permanência'].quantile([0.25, 0.5, 0.75])\n"
      ]
    },
    {
      "cell_type": "markdown",
      "id": "643d21b0",
      "metadata": {
        "id": "643d21b0"
      },
      "source": [
        "4. Calcule os quartis Q1, Q2 (mediana) e Q3.\n",
        "<br><img src=\"data:image/png;base64,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\" alt=\"Descrição da imagem\" width=\"300\"/>"
      ]
    },
    {
      "cell_type": "code",
      "execution_count": 23,
      "id": "a6211340",
      "metadata": {
        "id": "a6211340",
        "colab": {
          "base_uri": "https://localhost:8080/"
        },
        "outputId": "3e97970b-7838-4356-e3a7-a2fb996f1a4b"
      },
      "outputs": [
        {
          "output_type": "stream",
          "name": "stdout",
          "text": [
            "0.25    29.00\n",
            "0.50    35.50\n",
            "0.75    41.25\n",
            "Name: Tempo de Permanência, dtype: float64\n"
          ]
        }
      ],
      "source": [
        "print(quartis)"
      ]
    },
    {
      "cell_type": "markdown",
      "id": "811c553d",
      "metadata": {
        "id": "811c553d"
      },
      "source": [
        "5. Quais espaços estão abaixo de Q1? O que pode estar acontecendo nesses lugares?"
      ]
    },
    {
      "cell_type": "markdown",
      "id": "5147f035",
      "metadata": {
        "id": "5147f035"
      },
      "source": [
        "Resposta: Inatel - Sala de Física, Associação José do Patrocínio, Loja Maçônica,Inatel - Laboratório de Ideação, Inatel - CDGHub. Stands com demontrações rápidas, ou plaestras mais curtas são opções."
      ]
    },
    {
      "cell_type": "markdown",
      "id": "3cc806fa",
      "metadata": {
        "id": "3cc806fa"
      },
      "source": [
        "6. Quais locais estão acima de Q3? Isso pode indicar algo positivo ou negativo para a organização?"
      ]
    },
    {
      "cell_type": "markdown",
      "id": "a5ce3051",
      "metadata": {
        "id": "a5ce3051"
      },
      "source": [
        "Resposta:ETE - Sala 82, ETE - Sala 64, ETE - Auditório Sinhá Moreira,\n",
        "Teatro Inatel, Inatel - Auditório Aureliano Chaves. Positivo pois demostra o alto interesse do público e a vizibidade que esses lugares estão recebendo."
      ]
    },
    {
      "cell_type": "markdown",
      "id": "88f6bbc2",
      "metadata": {
        "id": "88f6bbc2"
      },
      "source": [
        "---\n",
        "### Parte 3 – Dispersão"
      ]
    },
    {
      "cell_type": "code",
      "execution_count": 26,
      "id": "HeF3xCPSNp44",
      "metadata": {
        "id": "HeF3xCPSNp44"
      },
      "outputs": [],
      "source": [
        "# Seleciona apenas a coluna numérica\n",
        "tempos = dados['Tempo de Permanência']\n",
        "\n",
        "# Função para calcular a amplitude\n",
        "amplitude = max(tempos) - min(tempos)\n",
        "\n",
        "# Função para calcular a variância amostral\n",
        "def variancia(dados):\n",
        "    media = sum(dados) / len(dados)\n",
        "    return sum((x - media) ** 2 for x in dados) / (len(dados) - 1)\n",
        "\n",
        "# Função para calcular o desvio padrão amostral\n",
        "def desvio_padrao(dados):\n",
        "    return variancia(dados) ** 0.5"
      ]
    },
    {
      "cell_type": "markdown",
      "id": "07a9097c",
      "metadata": {
        "id": "07a9097c"
      },
      "source": [
        "7. Calcule:"
      ]
    },
    {
      "cell_type": "markdown",
      "id": "67b31dfe",
      "metadata": {
        "id": "67b31dfe"
      },
      "source": [
        "- Amplitude:\n",
        "<br><img src=\"data:image/png;base64,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\" alt=\"Descrição da imagem\" width=\"500\"/>"
      ]
    },
    {
      "cell_type": "code",
      "execution_count": 27,
      "id": "4013cae4",
      "metadata": {
        "id": "4013cae4",
        "colab": {
          "base_uri": "https://localhost:8080/"
        },
        "outputId": "01101c76-6a43-422f-ba67-d461e78ab94d"
      },
      "outputs": [
        {
          "output_type": "stream",
          "name": "stdout",
          "text": [
            "Amplitude:  43\n"
          ]
        }
      ],
      "source": [
        "print(\"Amplitude: \", amplitude)"
      ]
    },
    {
      "cell_type": "markdown",
      "id": "1b03d8f6",
      "metadata": {
        "id": "1b03d8f6"
      },
      "source": [
        "- Variância (amostral):\n",
        "<br><img src=\"data:image/png;base64,/9j/4AAQSkZJRgABAQAAAQABAAD/2wBDAAYEBQYFBAYGBQYHBwYIChAKCgkJChQODwwQFxQYGBcUFhYaHSUfGhsjHBYWICwgIyYnKSopGR8tMC0oMCUoKSj/2wBDAQcHBwoIChMKChMoGhYaKCgoKCgoKCgoKCgoKCgoKCgoKCgoKCgoKCgoKCgoKCgoKCgoKCgoKCgoKCgoKCgoKCj/wAARCACOARUDASIAAhEBAxEB/8QAHAABAAICAwEAAAAAAAAAAAAAAAYHBAUBAwgC/8QAUBAAAQMDAwEDCAQFDg8BAAAAAQACAwQFEQYSITEHE0EIFBYiUVSW0xUyYXEXQldnlSMnNlZidYGRkqSls9LiGDQ3OENEUlNyc4KiprHUwf/EABYBAQEBAAAAAAAAAAAAAAAAAAABAv/EACERAQEAAgICAgMBAAAAAAAAAAABESECMUFhElEyccHw/9oADAMBAAIRAxEAPwD1SiIgIiICIiAiIgIiICIsG81UtDaqqqp44JJYoy8NnlMUfHJ3PDXFoA5JDT9xUtxM07Zy4VYt7UZ3aYst6Fi/Ua2emhnHneBEZ5A1rYyWZleGua8tLWADI3ZBCs5XCZcoiIoiIgIiICIiAiIgIiICIiAiIgIiICIiAiIgIiICIiAiIgIiICIiAot2mUN0uuibnbLEwura5raXcHBvdxyODZH5JH1WFx45OOAVXF68pLS1lvVXarjY9Tw11NKYZIjTQ5Dgccfq3IPUHxBC3Y7ZPzc9pH6D/vqYzPR1WVqfS1W286Cttms/fads87qmU9+xjYpGM2xFwcdzuXPdkBxJAzjJKsoKq/wyfm57SP0H/fWBeO3q2WSj87vOiteW6l3BnfVdqbCzceg3OkAzweFUx9LkRafSd+pdT6bt96t7JWUtbEJo2zAB4B8HAEjP3ErcJdaJc7EREUREQEREBERAREQEWJdH10dBK+1U9NU1ox3cVTO6CN3Izl7WPI4yfqnJAHGcjQefa3/a9pv9PT//ABoJUiivn2t/2vab/T0//wAa2linvk3f/T1uttFjb3XmVe+q39d27dDHtxxjGc5PTHIbZEWBeauqpKUG30JrauR2yOMyd2wEgnc9+DtYMckBx9gJwEGeUUM0/rGpqNYVWl9Q2pltvEdMK2A09SamCpgyGlzXljCHBxwWlo9oyFM0BERAREQEREBERAREQEREFL+UP2Qxa9tJulmjazU1HHiPkNFUwc924+3rtJ8eDwciDeTV2vywTxaE1nI+Cqhd5tQTz5DtwOPN356EdG59m3rjPqFedfKY7HXX2CTVmlKcC807d9XTxDBqmD8doHWQf9wHtABzL8O+lx89eXopYtwoqe40NRRVsLJ6WojdFLE8Za9rhgg/eCqL8mrti9LqOPTeo5idQU7CYZ3f63G32/uwOvtAz7Vfy1y441WZUT7LrFU6Y0Pb7LWA76J00TCXBxdGJX9244J6s2nHhnC2WrdRUGlbFU3a6ueKeEABkbd0krycNjY3xc4kAD2nwHK3KontMuDtQeUHoTST3Zt9Fuus0eOHSta9zM8847sfyj1S55cpPtepb9LZ0o691NG6t1D3NNUVO1zLfCNzaRvUNc8jL5OfWdw3gADgud36noLjcbPNBZrvPaK/BMVVFFHLh2DgObI1wLc4zjB44IW3C4U5bJpSXk4al1Nqumvc2r79VVNxtlY6jkofN6eONgwMOOyMO3bg8fWxx0W1uw1jqXtBmg0dqyot2m6M93cJnUlNMwTjGYYN0e4uH4znEhpdjkgtVe2nvrd5SerdMWO6RUdLqBrKipmhdumic1hfI1hxhshLn8n6odnrhej7TbqSz22mt9tp2U9HTMEcUTOjWj/3955KvcnL0l1bH3b6eSlo4oJ6ueskY3Dp5wwPkPtcGNa3P3NAWSiIoiIgIiIOmoY6WCSNkr4XvaWiSMAuYSPrDcCMjryCPsKobT951pD2+Vmi9Qawrn2xlMayieyipGPqG+q4Nce5PGO8BIwSWkjCv5edPKRrRpbtJ0Fqm3TUjbpG6WldHO44MZ4DnAc7B3j8ke3hJ+U96LvjVidqtZqOpq7bZdBXiai1DMe9kYIoZIYqfOHTTb43EDI2tDSC4k8HacSjT9ou9BZpKa7akrLrcJGYNY+mgh7t2MZjYxgAGecO3/fhdmlrDFZKWZzpn1dxrH99W1sgAfUSYAzgcNaAAGtHDQAPaTuwmMTCZztC9OarqW6nn0pqhsEN8ZH5xS1EI2w3GDxfG0klj2kEOjJOMZBIPEtrKuChpJaqsmjgp4ml8ksjg1rGjqST0CpTyp557DadK6ttwDbhZ7q3Y7OMse07mHHgdgBHsJVm6j03Y9e6fp6e+08tXbZQ2cQsqZYWv4BG7u3N3DoQDkZ5U745i9XDptNvim1Q7UtyAp6uqgFBb4JTteyEZkdkHne/G4t6hrAOCHKWKC6O7KNF6Nu/0ppuyijr+7MXempmlw04yAHvIHTrjKnSvjSCIiKIiICIiAiIgIiICIiAVGO0HWFDovT77jWsfPO9whpKOLmWqndw2Ng8ST9nAyVt77d6Gw2irul2qGU1DSxmWWV/RoH/ALPgAOSSAFXuhbRXav1BHrzVdM+BrWubYbZKP8Tgd1meP988Y/4RgfdO9HW3b2Qdnx0464ajvtPSN1ZenunrPN2BsdMHHd3MePAcFx/GIyScAqzVwitQXn7UkT7X5XWmquZpFPcbc+KN56bmxyggc/Y3+UruoLzS192udupt7prcY2zu42hz27g0HOchu0nj8YfwRLtc0hVahobZdrCGekliqBW0G8homwRvhcfAPAx94GSBlSXFlXuWLAUI1Bfqm9XifS+k6gMrY2j6SuLRubbmO6NHgZ3DO1p4aPWdwA12wtFyteu9OEsdXU43BlVTNnlo6qllbgmKQxua9jh4jOCCDyCCcbRvZzpfRlVNUaZoKihfMMSsFdUSRv8Atcx7y0keBIyMnHVXG9mdaVL23Wij7P8AUPZvqe1xdxQWytNFUHJLnMkJc5znHOSczEuPJLiScr0QxwexrmkFpGQR4qJay7ONMa0mbJqaiqq8MILInXCpZEwgYy2NsgYDjxAyVt9L6bt2l7c2gszaqOjbgMimrJqgRgDAazvHO2tAHQYH2JOsVL3lnXWs+j7ZV1nm9RU+bxOl7imZvlk2gnaxvi44wB4nC5tlX5/bqWr7iem7+Jsvc1DNkke4A7Xt8HDOCPAqF9s0s3opTUFFU1tLcblX09FSTUdTJA+N73cuyxwJDWB7sHg45CnUTBHExgLiGgAFxJJ+8nqVIXtqtV6atOrLJNaNQUvndvmLXPi7x8eS0gj1mkHqB4qB/wCD72Y/tZ/n9V8xWqiKrK29hfZzbbhS11Fp3uqqmlbNE/z6pdte0gtODIQcEDqrMXK+Ht3tLTnBGOCQf4wrkRzWGqYrGaWho4hXX+vcWUNva/DpCOr3nnZG0cufjgcDJIBrXtj0A6bsb1LPWT+faic1txqq3aRudES7YxuTtjawva1vhkk5JJM1p+ynSNPqJt+io7j9NNIPnr7vWPldgAYLjKS4YAGDkEcdFv8AVWmLZqq3mhvbKqWjOQ+GGsmp2yA8EPEb27h9jshZszPay4vprOyW/t1P2cafuoeHyS0rGynIP6o0bX5x+6aVL1EdGdnmmtFvkdpijqqFj8l8IuFRJE4kAFxjfIWF2APWxnjqpb0W+VluWOMxMKO8r+UDsrhpwN0tTcYY42jqThx4H8Ct/TVC62aetlC8kupqaKEk/uWgf/iryut7O0zXdnr4sSaR07K6ojqByy4VnQd2R9aOPHLxwXEtGcEi1VnjMS+6vLdnpyiIqoiIgIiICLjooTd+0ShswhqrpabxTWKWZsIvEkUfmzS7hrnN7zvWsJ4D3Rgcg5wQTBNwi4BBGR0XOVQREQEREHlXts1Vrq/a0pIbHoa812nLTP3jIau01Loa6YdJHtaGksafqtzg4yc5wH4Y+278nP8AQdd/bXqk8Ba3Tl8t2pLNT3Wy1HnNBUbu7l2OZu2uLTw4AjkHqFJqYLu5eaPwydt/5Of6Drv7ax7l2t9udXRSwQaGqKGV4w2op7DVF7OeoDy5v8bSvWSj1o1hYLzf6+y2m6QVlyoGh1TFDl4iycYLwNuQRgtByD1AT0e0F8mm1Xmg0FU1ep4a6K9XO4TVdSK6NzJifVYC4OAI4ZkfYVbSIrblJMOtsETah87YmCd7Qx0gaNzmtJIBPiAXOwPDJ9q7URFEREEd1TpWn1FXWiqqK6vpX2yZ80YpXtaHlzSxwcS0keqXAOaWuG4kEHBEhCFcoCIiAiIgIiIAXVUQx1MEkNRGyWGRpY+N7Q5rmkYIIPBBHgu1EHy1oY0NaA1oGAAOgX0iICIiAiIgIuFUto1Rc9X9pmqtPRX+aw/QmxtPSU0EL5KoEZdLIZWOJaCWjDNvDhk8gqecHjK21Du0K3M1XbpNKN5ZWd26teP9BTh4J/6n7S1v8LujSu3QMuo6yy10mq3xxXB1ZPFGKenMLGRMcY2OY1xcSHbS8FxOd/iMKKHsYi87q6mPXuv4ZauYzz9xdmxNe8gAktbGB0AHTgAAcAJ5FqRsaxjWMADWjAA8F9rGt9JFb6Cno6Zu2CnjbFG32NaMAfxBdsz+7ie/a520E7WjJOPAD2q1I7EVVfhk/Nx2k/oP++n4ZPzcdpP6D/voq1U8Fg2Wv+lLTSV3mtXR+cRNl83q4+7miyM7Xtydrh4hZwQm0a7R7q6x6GvVzZVz0klNTOkjlgDC/ePqtaHtc0knDeQeq+KJ+p6XStoa2Ghu157hgrZKyqNG1z9vrOHdwvH1vDaOFzr/AE5U6ossNBS18VFtq4al5mpzOyURPDwxzQ9hwXNbnDvBZ9y09arzQ01LqGgo7y2DBBr6aOXLsYL9pbtBP2AdVJ1S+GuirdaGVgmsGnWxEjc5t8mcQPEgeaDJ+zIUdtn+cJfP3gpf66VSKHs90ZDKySHSGnY5GODmvbbIQWkcgg7eCtZR6PvdP2kVWqX323viqKdtG+jFseD3LHuc3Enfn1/WwXbcH/ZCeYl6v+8p4iIqoiIgIiICIiAiIgIiICIiAiIgIiICIiAiIg0WtdQw6V0vX3qpj72GjaHuZv2ZBcB18OqqDykNOsttHR9p2mp20l/tEkRdMw+rVROcGAOx9Y+sB9rSQcjGLsvNpoL5b30N3pIqyie5jnwTDcx5a4OAc3oRkA4PBxytDF2eaZjqKaQ2+WWKll76npJqyeWlgfzgx07nmJmMnbtaNvhhTzkSG0VMtZaqOpqIXU800LJHwu6xuLQS0/cThZq4XPire0mpgXXNv7t/dbe8wdu7pnwz9i7EUVVX69/5tv58n69/5tv58rVRUYVl+kPomk+mvNPpPum+c+abu57zHrbN3O3PTPK671aae80rKeskro42vEgNHWzUj8gEcvie1xHJ4Jx0OMgLYogivoHaPfNSfEdx+enoHaPfNSfEdx+epUiCK+gdo981J8R3H56egdo981J8R3H56lSIIr6B2j3zUnxHcfnp6B2j3zUnxHcfnqVIgivoHaPfNSfEdx+enoHaPfNSfEdx+epUiCK+gdo981J8R3H56egdo981J8R3H56lSIIr6B2j3zUnxHcfnp6B2j3zUnxHcfnqVIgivoHaPfNSfEdx+enoHaPfNSfEdx+epUiCKegdo981J8R3H56egdo981J8R3H56zdU6u09pSm77Ud4orc3Y6RjJ5QJJA3rsZ9Z5GRw0E8hbWgq4K+hp6ykf3lNURtmifgjc1wyDg8jgjqgj3oHaPfNSfEdx+enoHaPfNSfEdx+epUiCK+gdo981J8R3H56egdo981J8R3H56lSIIr6B2j3zUnxHcfnp6B2j3zUnxHcfnqVIgivoHaPfNSfEdx+es+y6aobNVOqKSe7ySOYYyKy7VVUzBIPDJZHNB4HIGeozyVu0QEREBERAREQEREBERAREQEREBERAREQERD0QRO3domkrpqSCw2u+UlfdJo3StjoyZ2hozndIwFjTx0JB6cchfA7SNInWDNLNvtM++ucWCmYHOAeM5YXgbA4YPqk5zxjKqDS0tTrbt91xU0Dqingpo22l9dC7aYIWnEgY7wke9mGkdG73ZBAzsL7a6W5+UBozS1mpYaW0aVo33J7IGgBjnkYHHiSIyc8ncT9qTfx9pdfLHhfyLrlLmRPMbN7w0lrc43HwGfBVd6bdp35I/8AyWl/soq1UVVem3ad+SP/AMlpf7Ksey1FZV2mkqLlQ/R9dJE181L3ol7l5HLN44dg8ZHBTAqDyrLRbvwUXm4/R9H9IGalzVdy3vTiQNHr4zwHOA56OI8SrO0B+wbT3730/wDVtVf+Vd/kVu//ADaf+uYrA0B+wbT3730/9W1Th1y/f8Tl+XH9Vv0RFVEREBERAREQEREBERAREQEREBERAREQEREBERAREQcLCvUtXDaK2W205qa5kL3QQBwb3kgadrcuIAycckgLOKKWZmCXauOwfRtTozs/gprtD3V7q5ZKqvy8PJlc44BcCQcNDRwT4+1aPsv0vqmh7RtZXy/W+OjFyrQY6p8zJTLTMy2OONrXEt42lznYwGtAaSSW3EuVc7ynjAiIiiIiCpfKHtWodVaKrNOac07WV09Q6GTzoVFNHC0NeHEevKH59Ufi456qX9m8lzZpa30N5sdZaaqipYYHieaCVsjmsAJYYpHHHH4waeRwpWik1Kl3ZfoREVUREQEREBERAREQf//Z\" alt=\"Descrição da imagem\" width=\"300\"/>"
      ]
    },
    {
      "cell_type": "code",
      "execution_count": 34,
      "id": "0583f328",
      "metadata": {
        "id": "0583f328",
        "colab": {
          "base_uri": "https://localhost:8080/"
        },
        "outputId": "10fefe12-5bcb-49ac-c20f-9cfa8df3954c"
      },
      "outputs": [
        {
          "output_type": "stream",
          "name": "stdout",
          "text": [
            "Variância: 148.55526315789473)\n"
          ]
        }
      ],
      "source": [
        "print(f\"Variância: {variancia(tempos)})\")"
      ]
    },
    {
      "cell_type": "markdown",
      "id": "db67f813",
      "metadata": {
        "id": "db67f813"
      },
      "source": [
        "- Desvio Padrão (amostral):\n",
        "<br><img src=\"data:image/png;base64,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\" alt=\"Descrição da imagem\" width=\"300\"/>\n"
      ]
    },
    {
      "cell_type": "code",
      "execution_count": 32,
      "id": "4c58c213",
      "metadata": {
        "id": "4c58c213",
        "colab": {
          "base_uri": "https://localhost:8080/"
        },
        "outputId": "340d94a4-2c7a-48d3-b18c-b0b9f7ad6334"
      },
      "outputs": [
        {
          "output_type": "stream",
          "name": "stdout",
          "text": [
            "Desvio padrão: 12.188324870871089\n"
          ]
        }
      ],
      "source": [
        "print(f\"Desvio padrão: {desvio_padrao(tempos):.2}\")"
      ]
    },
    {
      "cell_type": "markdown",
      "id": "5103e5b5",
      "metadata": {
        "id": "5103e5b5"
      },
      "source": [
        "8. Os tempos de permanência variam muito entre os locais? Como essa dispersão influencia as decisões de alocação de palestras, dinâmicas ou recursos?"
      ]
    },
    {
      "cell_type": "markdown",
      "id": "a6d9e86c",
      "metadata": {
        "id": "a6d9e86c"
      },
      "source": [
        "Resposta:Variam consideravelmente, como isso é preciso realocar mais recursos para os locais com maior tempo de permanência."
      ]
    },
    {
      "cell_type": "markdown",
      "id": "6e9f54ca",
      "metadata": {
        "id": "6e9f54ca"
      },
      "source": [
        "---\n",
        "### Parte 4 – Visualização de Dados"
      ]
    },
    {
      "cell_type": "code",
      "execution_count": 36,
      "id": "8f409cfd",
      "metadata": {
        "id": "8f409cfd"
      },
      "outputs": [],
      "source": [
        "# Função para Histograma\n",
        "def plot_histograma(dados, coluna, bins=10):\n",
        "    \"\"\"\n",
        "    Plota um histograma para a coluna numérica especificada.\n",
        "    :param dados: DataFrame\n",
        "    :param coluna: Nome da coluna numérica\n",
        "    :param bins: Número de intervalos do histograma\n",
        "    \"\"\"\n",
        "    plt.figure(figsize=(8,5))\n",
        "    plt.hist(dados[coluna], bins=bins, color='skyblue', edgecolor='black')\n",
        "    plt.title(f\"Histograma - {coluna}\")\n",
        "    plt.xlabel(coluna)\n",
        "    plt.ylabel(\"Frequência\")\n",
        "    plt.axvline(dados[coluna].mean(), color='red', linestyle='--', label=f'Média: {dados[coluna].mean():.2f}')\n",
        "    plt.legend()\n",
        "    plt.show()\n",
        "\n",
        "# Função para Boxplot\n",
        "def plot_boxplot(dados, coluna):\n",
        "    \"\"\"\n",
        "    Plota um boxplot para a coluna numérica especificada.\n",
        "    :param dados: DataFrame\n",
        "    :param coluna: Nome da coluna numérica\n",
        "    \"\"\"\n",
        "    plt.figure(figsize=(8,3))\n",
        "    sns.boxplot(x=dados[coluna], color='lightgreen')\n",
        "    plt.title(f\"Boxplot - {coluna}\")\n",
        "    plt.xlabel(coluna)\n",
        "    plt.show()"
      ]
    },
    {
      "cell_type": "markdown",
      "id": "8d8fc12c",
      "metadata": {
        "id": "8d8fc12c"
      },
      "source": [
        "9. Crie um histograma para visualizar a distribuição dos tempos."
      ]
    },
    {
      "cell_type": "code",
      "execution_count": 37,
      "id": "gNT7WcmK200P",
      "metadata": {
        "id": "gNT7WcmK200P",
        "colab": {
          "base_uri": "https://localhost:8080/",
          "height": 488
        },
        "outputId": "30b135a8-7f63-48fc-bf7c-e9c4c3313317"
      },
      "outputs": [
        {
          "output_type": "display_data",
          "data": {
            "text/plain": [
              "<Figure size 800x500 with 1 Axes>"
            ],
            "image/png": "[encoded data removed]"
          },
          "metadata": {}
        }
      ],
      "source": [
        "plot_histograma(dados, 'Tempo de Permanência', bins=10)"
      ]
    },
    {
      "cell_type": "markdown",
      "id": "d347d53a",
      "metadata": {
        "id": "d347d53a"
      },
      "source": [
        "10. Crie um boxplot, indicando os quartis, a mediana e possíveis outliers."
      ]
    },
    {
      "cell_type": "code",
      "execution_count": 38,
      "id": "5673537b",
      "metadata": {
        "id": "5673537b",
        "colab": {
          "base_uri": "https://localhost:8080/",
          "height": 334
        },
        "outputId": "73aa9c60-2e8d-4e8f-f79b-6be47385c5d0"
      },
      "outputs": [
        {
          "output_type": "display_data",
          "data": {
            "text/plain": [
              "<Figure size 800x300 with 1 Axes>"
            ],
            "image/png": "[encoded data removed]"
          },
          "metadata": {}
        }
      ],
      "source": [
        "plot_boxplot(dados, 'Tempo de Permanência')"
      ]
    },
    {
      "cell_type": "markdown",
      "id": "73e225a8",
      "metadata": {
        "id": "73e225a8"
      },
      "source": [
        "11. Com base no boxplot, quais locais podem ser considerados outliers? Eles precisam de atenção especial?"
      ]
    },
    {
      "cell_type": "markdown",
      "id": "3263eb44",
      "metadata": {
        "id": "3263eb44"
      },
      "source": [
        "Resposta:Locais abaixo de 30 e acima de 40 já podem ser considerados outliers, os locais a baixo podem precisar de uma melhor análise e gestão para atrair mais a tenção das pessoas, já os acima indicam um sucesso mas prexisam de uma boa gestão de fluxo."
      ]
    }
  ],
  "metadata": {
    "colab": {
      "provenance": [],
      "include_colab_link": true
    },
    "kernelspec": {
      "display_name": "Python 3",
      "language": "python",
      "name": "python3"
    },
    "language_info": {
      "codemirror_mode": {
        "name": "ipython",
        "version": 3
      },
      "file_extension": ".py",
      "mimetype": "text/x-python",
      "name": "python",
      "nbconvert_exporter": "python",
      "pygments_lexer": "ipython3",
      "version": "3.13.1"
    }
  },
  "nbformat": 4,
  "nbformat_minor": 5
}